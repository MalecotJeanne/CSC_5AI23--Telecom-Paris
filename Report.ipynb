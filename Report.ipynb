{
 "cells": [
  {
   "cell_type": "markdown",
   "metadata": {},
   "source": [
    "# VQVAE for Image Generation - FashionMNIST Dataset\n",
    "**Author:** Jeanne Malécot "
   ]
  },
  {
   "cell_type": "markdown",
   "metadata": {},
   "source": [
    "## Getting Started"
   ]
  },
  {
   "cell_type": "code",
   "execution_count": 1,
   "metadata": {},
   "outputs": [],
   "source": [
    "#useful imports\n",
    "import os\n",
    "import copy\n",
    "\n",
    "import torch\n",
    "import torchvision\n",
    "import torchvision.transforms as transforms\n",
    "import torchinfo\n",
    "import random\n",
    "\n",
    "import matplotlib.pyplot as plt\n",
    "\n",
    "from scripts.train import train_model\n",
    "from scripts.reconstruct import reconstruct, show_recon\n",
    "from models.vqvae import VQVAE"
   ]
  },
  {
   "cell_type": "markdown",
   "metadata": {},
   "source": [
    "##### Load FashionMNIST dataset"
   ]
  },
  {
   "cell_type": "code",
   "execution_count": 2,
   "metadata": {
    "scrolled": true
   },
   "outputs": [
    {
     "name": "stdout",
     "output_type": "stream",
     "text": [
      "len train set: 60000\n",
      "len test set: 10000\n",
      "image shape: torch.Size([28, 28])\n"
     ]
    }
   ],
   "source": [
    "#load FashionMNIST\n",
    "train_set = torchvision.datasets.FashionMNIST(\n",
    "    root=\"data\",\n",
    "    train=True,\n",
    "    download=True,\n",
    "    transform=transforms.ToTensor()\n",
    ")\n",
    "test_set = torchvision.datasets.FashionMNIST(\n",
    "    root=\"data\",\n",
    "    train=False,\n",
    "    download=True,\n",
    "    transform=transforms.ToTensor()\n",
    ")\n",
    "\n",
    "print(f\"len train set: {len(train_set)}\\nlen test set: {len(test_set)}\")\n",
    "print(f\"image shape: {train_set[0][0][0].shape}\")"
   ]
  },
  {
   "cell_type": "markdown",
   "metadata": {},
   "source": [
    "## Training VQVAE for reconstruction"
   ]
  },
  {
   "cell_type": "code",
   "execution_count": 3,
   "metadata": {},
   "outputs": [
    {
     "name": "stdout",
     "output_type": "stream",
     "text": [
      "device: cuda\n"
     ]
    }
   ],
   "source": [
    "#device\n",
    "device = \"cuda\" if torch.cuda.is_available() else \"cpu\"\n",
    "print('device:', device)"
   ]
  },
  {
   "cell_type": "code",
   "execution_count": null,
   "metadata": {},
   "outputs": [],
   "source": [
    "#config\n",
    "basic_config = {\n",
    "    'n_epochs': 30, \n",
    "    'lr': 0.001, \n",
    "    'model': {\n",
    "        'batch_size': 100, \n",
    "        'n_channels': 1, \n",
    "        'channels': [64, 128],\n",
    "        'latent_dim': 20,\n",
    "        'n_embedding': 20,\n",
    "        }\n",
    "    } "
   ]
  },
  {
   "cell_type": "code",
   "execution_count": 19,
   "metadata": {},
   "outputs": [
    {
     "name": "stdout",
     "output_type": "stream",
     "text": [
      "18000\n"
     ]
    },
    {
     "ename": "ValueError",
     "evalue": "setting an array element with a sequence. The requested array has an inhomogeneous shape after 2 dimensions. The detected shape was (18000, 5) + inhomogeneous part.",
     "output_type": "error",
     "traceback": [
      "\u001b[0;31m---------------------------------------------------------------------------\u001b[0m",
      "\u001b[0;31mValueError\u001b[0m                                Traceback (most recent call last)",
      "Cell \u001b[0;32mIn[19], line 12\u001b[0m\n\u001b[1;32m     10\u001b[0m \u001b[38;5;28;01mimport\u001b[39;00m \u001b[38;5;21;01mnumpy\u001b[39;00m \u001b[38;5;28;01mas\u001b[39;00m \u001b[38;5;21;01mnp\u001b[39;00m\n\u001b[1;32m     11\u001b[0m \u001b[38;5;28mprint\u001b[39m(\u001b[38;5;28mlen\u001b[39m(grid))\n\u001b[0;32m---> 12\u001b[0m \u001b[38;5;28mprint\u001b[39m(\u001b[38;5;28mlen\u001b[39m(np\u001b[38;5;241m.\u001b[39munique(grid)))\n",
      "File \u001b[0;32m~/anaconda3/envs/jupyterenv/lib/python3.12/site-packages/numpy/lib/_arraysetops_impl.py:289\u001b[0m, in \u001b[0;36munique\u001b[0;34m(ar, return_index, return_inverse, return_counts, axis, equal_nan)\u001b[0m\n\u001b[1;32m    145\u001b[0m \u001b[38;5;129m@array_function_dispatch\u001b[39m(_unique_dispatcher)\n\u001b[1;32m    146\u001b[0m \u001b[38;5;28;01mdef\u001b[39;00m \u001b[38;5;21munique\u001b[39m(ar, return_index\u001b[38;5;241m=\u001b[39m\u001b[38;5;28;01mFalse\u001b[39;00m, return_inverse\u001b[38;5;241m=\u001b[39m\u001b[38;5;28;01mFalse\u001b[39;00m,\n\u001b[1;32m    147\u001b[0m            return_counts\u001b[38;5;241m=\u001b[39m\u001b[38;5;28;01mFalse\u001b[39;00m, axis\u001b[38;5;241m=\u001b[39m\u001b[38;5;28;01mNone\u001b[39;00m, \u001b[38;5;241m*\u001b[39m, equal_nan\u001b[38;5;241m=\u001b[39m\u001b[38;5;28;01mTrue\u001b[39;00m):\n\u001b[1;32m    148\u001b[0m \u001b[38;5;250m    \u001b[39m\u001b[38;5;124;03m\"\"\"\u001b[39;00m\n\u001b[1;32m    149\u001b[0m \u001b[38;5;124;03m    Find the unique elements of an array.\u001b[39;00m\n\u001b[1;32m    150\u001b[0m \n\u001b[0;32m   (...)\u001b[0m\n\u001b[1;32m    287\u001b[0m \n\u001b[1;32m    288\u001b[0m \u001b[38;5;124;03m    \"\"\"\u001b[39;00m\n\u001b[0;32m--> 289\u001b[0m     ar \u001b[38;5;241m=\u001b[39m np\u001b[38;5;241m.\u001b[39masanyarray(ar)\n\u001b[1;32m    290\u001b[0m     \u001b[38;5;28;01mif\u001b[39;00m axis \u001b[38;5;129;01mis\u001b[39;00m \u001b[38;5;28;01mNone\u001b[39;00m:\n\u001b[1;32m    291\u001b[0m         ret \u001b[38;5;241m=\u001b[39m _unique1d(ar, return_index, return_inverse, return_counts, \n\u001b[1;32m    292\u001b[0m                         equal_nan\u001b[38;5;241m=\u001b[39mequal_nan, inverse_shape\u001b[38;5;241m=\u001b[39mar\u001b[38;5;241m.\u001b[39mshape, axis\u001b[38;5;241m=\u001b[39m\u001b[38;5;28;01mNone\u001b[39;00m)\n",
      "\u001b[0;31mValueError\u001b[0m: setting an array element with a sequence. The requested array has an inhomogeneous shape after 2 dimensions. The detected shape was (18000, 5) + inhomogeneous part."
     ]
    }
   ],
   "source": [
    "model_dicts = []\n",
    "lr_list = [0.03, 0.01, 0.001]\n",
    "batch_size_list = [50, 100, 200]\n",
    "channels = [[16, 32], [32, 64], [64, 128], [128, 256]]\n",
    "latent_dim = [k for k in range(10, 101, 10)]\n",
    "n_embedding_list = [k for k in range(10,501,10)]\n",
    "\n",
    "grid = [(lr, batch_size, channel, latent, n_embedding) for lr in lr_list for batch_size in batch_size_list for channel in channels for latent in latent_dim for n_embedding in n_embedding_list]"
   ]
  },
  {
   "cell_type": "markdown",
   "metadata": {},
   "source": [
    "Model architecture:"
   ]
  },
  {
   "cell_type": "code",
   "execution_count": 5,
   "metadata": {},
   "outputs": [
    {
     "name": "stdout",
     "output_type": "stream",
     "text": [
      "===============================================================================================\n",
      "Layer (type:depth-idx)                        Output Shape              Param #\n",
      "===============================================================================================\n",
      "VQVAE                                         [1, 1, 28, 28]            --\n",
      "├─EncoderBlock: 1-1                           [1, 20, 7, 7]             --\n",
      "│    └─ModuleList: 2-1                        --                        --\n",
      "│    │    └─Sequential: 3-1                   [1, 64, 14, 14]           640\n",
      "│    │    └─Sequential: 3-2                   [1, 128, 7, 7]            73,856\n",
      "│    │    └─Sequential: 3-3                   [1, 20, 7, 7]             2,580\n",
      "├─VectorQuantizer: 1-2                        [1, 20, 7, 7]             400\n",
      "├─DecoderBlock: 1-3                           [1, 1, 28, 28]            --\n",
      "│    └─ModuleList: 2-2                        --                        --\n",
      "│    │    └─Sequential: 3-4                   [1, 128, 7, 7]            2,688\n",
      "│    │    └─Sequential: 3-5                   [1, 64, 14, 14]           32,832\n",
      "│    │    └─Sequential: 3-6                   [1, 1, 28, 28]            257\n",
      "├─Conv2d: 1-4                                 [1, 1, 28, 28]            2\n",
      "===============================================================================================\n",
      "Total params: 113,255\n",
      "Trainable params: 113,255\n",
      "Non-trainable params: 0\n",
      "Total mult-adds (Units.MEGABYTES): 10.64\n",
      "===============================================================================================\n",
      "Input size (MB): 0.00\n",
      "Forward/backward pass size (MB): 0.32\n",
      "Params size (MB): 0.45\n",
      "Estimated Total Size (MB): 0.78\n",
      "===============================================================================================\n"
     ]
    }
   ],
   "source": [
    "vqvae = vqvae = VQVAE(basic_config['model']).to(device)\n",
    "print(torchinfo.summary(vqvae, (1, 1, 28,28), device = str(device)))"
   ]
  },
  {
   "cell_type": "markdown",
   "metadata": {},
   "source": [
    "#### Fine tuning of the VQ-VAE"
   ]
  },
  {
   "cell_type": "markdown",
   "metadata": {},
   "source": [
    "- Number of Embeddings:"
   ]
  },
  {
   "cell_type": "code",
   "execution_count": 6,
   "metadata": {},
   "outputs": [
    {
     "name": "stdout",
     "output_type": "stream",
     "text": [
      "==========\n",
      "TRAINING  1/1:\n"
     ]
    },
    {
     "data": {
      "application/vnd.jupyter.widget-view+json": {
       "model_id": "741eeea768014592b449577061dfc487",
       "version_major": 2,
       "version_minor": 0
      },
      "text/plain": [
       "Output()"
      ]
     },
     "metadata": {},
     "output_type": "display_data"
    },
    {
     "name": "stdout",
     "output_type": "stream",
     "text": [
      "Training Loss: 0.0301 | Validation Loss: 0.0301\n"
     ]
    }
   ],
   "source": [
    "#reconstruct\n",
    "model_dicts = []\n",
    "n_embedding_list = [k for k in range(10,501,50)]\n",
    "\n",
    "\n",
    "for i, n_embeddings in enumerate(n_embedding_list):\n",
    "    config = copy.deepcopy(basic_config)\n",
    "    config['model']['n_embedding'] = n_embeddings\n",
    "    print(f\"==========\\nTRAINING  {i+1}/{len(n_embedding_list)}:\") \n",
    "    model_dicts.append(train_model(\"vqvae\", train_set, config, device))\n",
    "    print(f\"Training Loss: {model_dicts[i]['train_loss']:.4f} | Validation Loss: {model_dicts[i]['val_loss']:.4f}\")"
   ]
  },
  {
   "cell_type": "code",
   "execution_count": 12,
   "metadata": {},
   "outputs": [
    {
     "name": "stdout",
     "output_type": "stream",
     "text": [
      "Config updated with n_embeddings = 784\n"
     ]
    }
   ],
   "source": [
    "#select model with lower accuracy\n",
    "sorted_dicts = sorted(model_dicts, key=lambda x:x['val_loss'])\n",
    "\n",
    "best_config = sorted_dicts[0]['config']\n",
    "best_model = sorted_dicts[0]['model']\n",
    "\n",
    "print(f\"Config updated with n_embeddings = {best_config['model']['n_embedding']}\")\n"
   ]
  },
  {
   "cell_type": "code",
   "execution_count": 13,
   "metadata": {},
   "outputs": [
    {
     "data": {
      "application/vnd.jupyter.widget-view+json": {
       "model_id": "3efe55a68241450c9b6e3e4c0057d94a",
       "version_major": 2,
       "version_minor": 0
      },
      "text/plain": [
       "Reconstructing images:   0%|          | 0/10000 [00:00<?, ?it/s]"
      ]
     },
     "metadata": {},
     "output_type": "display_data"
    },
    {
     "data": {
      "image/png": "[encoded data removed]",
      "text/plain": [
       "<Figure size 1400x800 with 8 Axes>"
      ]
     },
     "metadata": {},
     "output_type": "display_data"
    }
   ],
   "source": [
    "labels_map = {\n",
    "    0: \"T-Shirt\",\n",
    "    1: \"Trouser\",\n",
    "    2: \"Pullover\",\n",
    "    3: \"Dress  \",\n",
    "    4: \"Coat\",\n",
    "    5: \"Sandal\",\n",
    "    6: \"Shirt\",\n",
    "    7: \"Sneaker\",\n",
    "    8: \"Bag\",²\n",
    "    9: \"Ankle Boot\",\n",
    "}\n",
    "\n",
    "image_dicts, label_dist = reconstruct(best_model, test_set, device)\n",
    "show_recon(image_dicts)"
   ]
  },
  {
   "cell_type": "code",
   "execution_count": 9,
   "metadata": {},
   "outputs": [
    {
     "name": "stdout",
     "output_type": "stream",
     "text": [
      "torch.Size([28, 28])\n"
     ]
    },
    {
     "data": {
      "text/plain": [
       "<matplotlib.image.AxesImage at 0x7f88a34d6a80>"
      ]
     },
     "execution_count": 9,
     "metadata": {},
     "output_type": "execute_result"
    },
    {
     "data": {
      "image/png": "[encoded data removed]",
      "text/plain": [
       "<Figure size 640x480 with 1 Axes>"
      ]
     },
     "metadata": {},
     "output_type": "display_data"
    }
   ],
   "source": [
    "#generate sneakers\n",
    "sneakers_dist = label_dist[2]\n",
    "# print(sneakers_dist)\n",
    "\n",
    "generated_image = best_model.generate(sneakers_dist, (28,28))\n",
    "print(generated_image.shape)\n",
    "plt.imshow(generated_image.detach().cpu().numpy(), cmap = 'gray')"
   ]
  },
  {
   "cell_type": "code",
   "execution_count": null,
   "metadata": {},
   "outputs": [],
   "source": []
  },
  {
   "cell_type": "code",
   "execution_count": null,
   "metadata": {},
   "outputs": [],
   "source": []
  }
 ],
 "metadata": {
  "kernelspec": {
   "display_name": "Python3 (jupytervenv)",
   "language": "python",
   "name": "jupyterenv"
  },
  "language_info": {
   "codemirror_mode": {
    "name": "ipython",
    "version": 3
   },
   "file_extension": ".py",
   "mimetype": "text/x-python",
   "name": "python",
   "nbconvert_exporter": "python",
   "pygments_lexer": "ipython3",
   "version": "3.12.8"
  }
 },
 "nbformat": 4,
 "nbformat_minor": 4
}
